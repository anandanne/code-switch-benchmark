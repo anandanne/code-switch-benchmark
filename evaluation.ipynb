{
 "cells": [
  {
   "cell_type": "code",
   "execution_count": 4,
   "id": "42c300e6-b5d1-438e-9146-65b83e3837cb",
   "metadata": {},
   "outputs": [],
   "source": [
    "import CodemixedNLP as csnlp"
   ]
  },
  {
   "cell_type": "code",
   "execution_count": 4,
   "id": "066f2e75-6daa-490e-a1ed-7a531046af07",
   "metadata": {},
   "outputs": [
    {
     "name": "stdout",
     "output_type": "stream",
     "text": [
      "20000\n",
      "{'cmi': 29.154710891036473}\n"
     ]
    }
   ],
   "source": [
    "csnlp.metrics.get_metrics(dataset_paths = [\"datasets/sentimix2020/Hinglish/dev.jsonl\", \"datasets/sentimix2020/Hinglish/test.jsonl\", \"datasets/sentimix2020/Hinglish/train.jsonl\"], metrics = [\"cmi\"])"
   ]
  },
  {
   "cell_type": "code",
   "execution_count": 5,
   "id": "5beaacfe-e7e1-4dc0-9d2b-f9d4f61f671e",
   "metadata": {},
   "outputs": [],
   "source": [
    "from collections import Counter\n",
    "def get_cmi(sent):\n",
    "    cmi = 0\n",
    "    langids = sent[\"langids\"].split(\" \")\n",
    "    n = len(langids)\n",
    "    langid_counts = Counter(langids)\n",
    "    l1 = 0\n",
    "    l2 = 0\n",
    "    if \"hi\" in langid_counts:\n",
    "        l1 += langid_counts[\"hi\"]\n",
    "    if \"en\" in langid_counts:\n",
    "        l2 += langid_counts[\"en\"]\n",
    "    u = n - (l1 + l2)\n",
    "    max_l = max(l1, l2)\n",
    "    if n > u:\n",
    "        cmi += 100*(1 - (max_l/(n - u)))\n",
    "    return cmi\n",
    "\n",
    "def get_cmi_es(sent):\n",
    "    cmi = 0\n",
    "    langids = sent[\"langids_pp\"].split(\" \")\n",
    "    n = len(langids)\n",
    "    langid_counts = Counter(langids)\n",
    "    l1 = 0\n",
    "    l2 = 0\n",
    "    if \"lang1\" in langid_counts:\n",
    "        l1 += langid_counts[\"lang1\"]\n",
    "    if \"lang2\" in langid_counts:\n",
    "        l2 += langid_counts[\"lang2\"]\n",
    "    u = n - (l1 + l2)\n",
    "    max_l = max(l1, l2)\n",
    "    if n > u:\n",
    "        cmi += 100*(1 - (max_l/(n - u)))\n",
    "    return cmi"
   ]
  },
  {
   "cell_type": "code",
   "execution_count": 62,
   "id": "60d6852b-00e2-4b75-a2bd-5ce88dbbd3ee",
   "metadata": {},
   "outputs": [],
   "source": [
    "!cp datasets/sentimix2020/Hinglish/checkpoints/2021-11-08_01:22:02.880204/predictions_dev.txt datasets/sentimix2020/Hinglish/predictions_dev_bert_base.txt"
   ]
  },
  {
   "cell_type": "code",
   "execution_count": 63,
   "id": "4f265189-f20b-4a1f-acc6-1ddb97077739",
   "metadata": {},
   "outputs": [],
   "source": [
    "!cp datasets/sentimix2020/Hinglish/checkpoints/2021-11-08_01:22:02.880204/predictions_test.txt datasets/sentimix2020/Hinglish/predictions_test_bert_base.txt"
   ]
  },
  {
   "cell_type": "code",
   "execution_count": 64,
   "id": "de73bfd0-572a-420f-88c3-2d37f6011136",
   "metadata": {},
   "outputs": [],
   "source": [
    "!cp datasets/sentimix2020/Hinglish/checkpoints/2021-11-08_02:13:58.706723/predictions_dev.txt datasets/sentimix2020/Hinglish/predictions_dev_bert_tapt.txt"
   ]
  },
  {
   "cell_type": "code",
   "execution_count": 65,
   "id": "310f6d8f-a125-4049-85db-d5f9966e7990",
   "metadata": {},
   "outputs": [],
   "source": [
    "!cp datasets/sentimix2020/Hinglish/checkpoints/2021-11-08_02:13:58.706723/predictions_test.txt datasets/sentimix2020/Hinglish/predictions_test_bert_tapt.txt"
   ]
  },
  {
   "cell_type": "code",
   "execution_count": 66,
   "id": "1c8f72ae-7e58-4a42-85af-d827a76d2b4f",
   "metadata": {},
   "outputs": [],
   "source": [
    "!cp datasets/sentimix2020/Hinglish/checkpoints/2021-11-08_02:57:51.537827/predictions_dev.txt datasets/sentimix2020/Hinglish/predictions_dev_bert_dapt.txt"
   ]
  },
  {
   "cell_type": "code",
   "execution_count": 67,
   "id": "07643714-5e63-4c2d-beb2-3bfc06e9c8ac",
   "metadata": {},
   "outputs": [],
   "source": [
    "!cp datasets/sentimix2020/Hinglish/checkpoints/2021-11-08_02:57:51.537827/predictions_test.txt datasets/sentimix2020/Hinglish/predictions_test_bert_dapt.txt"
   ]
  },
  {
   "cell_type": "code",
   "execution_count": 68,
   "id": "c3732dc2-e973-401f-922c-3ccbf5a2a0bd",
   "metadata": {},
   "outputs": [],
   "source": [
    "!cp datasets/sentimix2020/Hinglish/checkpoints/2021-11-08_17:23:46.961120/predictions_dev.txt datasets/sentimix2020/Hinglish/predictions_dev_xlm_base.txt"
   ]
  },
  {
   "cell_type": "code",
   "execution_count": 69,
   "id": "18bcf96d-95ea-430e-b302-e7e1df00e0e2",
   "metadata": {},
   "outputs": [],
   "source": [
    "!cp datasets/sentimix2020/Hinglish/checkpoints/2021-11-08_17:23:46.961120/predictions_test.txt datasets/sentimix2020/Hinglish/predictions_test_xlm_base.txt"
   ]
  },
  {
   "cell_type": "code",
   "execution_count": 70,
   "id": "aa1fcf8c-8927-4969-a970-1e496c766db4",
   "metadata": {},
   "outputs": [],
   "source": [
    "!cp datasets/sentimix2020/Hinglish/checkpoints/2021-11-08_18:11:52.891934/predictions_dev.txt datasets/sentimix2020/Hinglish/predictions_dev_xlm_tapt.txt"
   ]
  },
  {
   "cell_type": "code",
   "execution_count": 71,
   "id": "f58e3c27-9d4d-431c-a50e-3ed657cc94b5",
   "metadata": {},
   "outputs": [],
   "source": [
    "!cp datasets/sentimix2020/Hinglish/checkpoints/2021-11-08_18:11:52.891934/predictions_test.txt datasets/sentimix2020/Hinglish/predictions_test_xlm_tapt.txt"
   ]
  },
  {
   "cell_type": "code",
   "execution_count": 72,
   "id": "ee4b73ff-243c-4531-a3d0-bd17783f6a1e",
   "metadata": {},
   "outputs": [],
   "source": [
    "!cp datasets/sentimix2020/Spanglish/checkpoints/2021-11-08_16:55:48.360096/predictions_dev.txt datasets/sentimix2020/Spanglish/predictions_dev_bert_base.txt"
   ]
  },
  {
   "cell_type": "code",
   "execution_count": 73,
   "id": "a16aedf4-79cf-468a-b516-226c8f059af8",
   "metadata": {},
   "outputs": [],
   "source": [
    "!cp datasets/sentimix2020/Spanglish/checkpoints/2021-11-08_18:50:44.026987/predictions_dev.txt datasets/sentimix2020/Spanglish/predictions_dev_bert_tapt.txt"
   ]
  },
  {
   "cell_type": "code",
   "execution_count": 74,
   "id": "9fc81608-6bae-4549-bb1c-9b51f9fa23ba",
   "metadata": {},
   "outputs": [],
   "source": [
    "!cp datasets/sentimix2020/Spanglish/checkpoints/2021-11-08_20:18:43.155644/predictions_dev.txt datasets/sentimix2020/Spanglish/predictions_dev_bert_dapt.txt"
   ]
  },
  {
   "cell_type": "code",
   "execution_count": 75,
   "id": "7e9f213b-23d0-458d-9343-a76f5f34e156",
   "metadata": {},
   "outputs": [],
   "source": [
    "!cp datasets/sentimix2020/Spanglish/checkpoints/2021-11-08_20:54:52.244211/predictions_dev.txt datasets/sentimix2020/Spanglish/predictions_dev_xlm_base.txt"
   ]
  },
  {
   "cell_type": "code",
   "execution_count": 76,
   "id": "3ab4fc2f-fd63-43ce-800d-8b2db1808d11",
   "metadata": {},
   "outputs": [],
   "source": [
    "!cp datasets/gluecos_pos_fg/Hinglish/checkpoints/2021-11-08_13:12:00.334848/predictions_dev.txt datasets/gluecos_pos_fg/Hinglish/predictions_dev_bert_base.txt"
   ]
  },
  {
   "cell_type": "code",
   "execution_count": 77,
   "id": "feae1b13-a39d-45c6-ae87-f29f5a35aa13",
   "metadata": {},
   "outputs": [],
   "source": [
    "!cp datasets/gluecos_pos_fg/Hinglish/checkpoints/2021-11-08_13:12:00.334848/predictions_test.txt datasets/gluecos_pos_fg/Hinglish/predictions_test_bert_base.txt"
   ]
  },
  {
   "cell_type": "code",
   "execution_count": 78,
   "id": "a4006bdc-df6a-463f-8a87-cfab8955086d",
   "metadata": {},
   "outputs": [],
   "source": [
    "!cp datasets/gluecos_pos_fg/Hinglish/checkpoints/2021-11-08_15:42:15.105358/predictions_dev.txt datasets/gluecos_pos_fg/Hinglish/predictions_dev_bert_tapt.txt"
   ]
  },
  {
   "cell_type": "code",
   "execution_count": 79,
   "id": "a9f35763-d67d-4636-8fd6-599ff9b2dc93",
   "metadata": {},
   "outputs": [],
   "source": [
    "!cp datasets/gluecos_pos_fg/Hinglish/checkpoints/2021-11-08_15:42:15.105358/predictions_test.txt datasets/gluecos_pos_fg/Hinglish/predictions_test_bert_tapt.txt"
   ]
  },
  {
   "cell_type": "code",
   "execution_count": 80,
   "id": "28b024da-bfd4-4b4c-a747-c37046042bb8",
   "metadata": {},
   "outputs": [],
   "source": [
    "!cp datasets/gluecos_pos_fg/Hinglish/checkpoints/2021-11-08_15:49:52.327237/predictions_dev.txt datasets/gluecos_pos_fg/Hinglish/predictions_dev_bert_dapt.txt"
   ]
  },
  {
   "cell_type": "code",
   "execution_count": 81,
   "id": "aabca06a-718c-4f5b-9e49-da5692e61d29",
   "metadata": {},
   "outputs": [],
   "source": [
    "!cp datasets/gluecos_pos_fg/Hinglish/checkpoints/2021-11-08_15:49:52.327237/predictions_test.txt datasets/gluecos_pos_fg/Hinglish/predictions_test_bert_dapt.txt"
   ]
  },
  {
   "cell_type": "code",
   "execution_count": 82,
   "id": "4760a3aa-768f-43c4-90d2-bb09990665ea",
   "metadata": {},
   "outputs": [],
   "source": [
    "!cp datasets/gluecos_pos_fg/Hinglish/checkpoints/2021-11-08_16:43:09.560524/predictions_dev.txt datasets/gluecos_pos_fg/Hinglish/predictions_dev_xlm_base.txt"
   ]
  },
  {
   "cell_type": "code",
   "execution_count": 83,
   "id": "5116afa6-8205-47c5-b60d-254e5ce5a496",
   "metadata": {},
   "outputs": [],
   "source": [
    "!cp datasets/gluecos_pos_fg/Hinglish/checkpoints/2021-11-08_16:43:09.560524/predictions_test.txt datasets/gluecos_pos_fg/Hinglish/predictions_test_xlm_base.txt"
   ]
  },
  {
   "cell_type": "code",
   "execution_count": 84,
   "id": "2ac175ff-e0e3-46c1-acc9-e9e810344e6e",
   "metadata": {},
   "outputs": [],
   "source": [
    "!cp datasets/gluecos_pos_fg/Hinglish/checkpoints/2021-11-08_16:51:46.831044/predictions_dev.txt datasets/gluecos_pos_fg/Hinglish/predictions_dev_xlm_tapt.txt"
   ]
  },
  {
   "cell_type": "code",
   "execution_count": 85,
   "id": "2e667ce1-c942-4789-ab5f-20aa0bccf4a0",
   "metadata": {},
   "outputs": [],
   "source": [
    "!cp datasets/gluecos_pos_fg/Hinglish/checkpoints/2021-11-08_16:51:46.831044/predictions_test.txt datasets/gluecos_pos_fg/Hinglish/predictions_test_xlm_tapt.txt"
   ]
  },
  {
   "cell_type": "code",
   "execution_count": 6,
   "id": "68e95a14-9a15-4ebe-ba2b-83aa44d27a2f",
   "metadata": {},
   "outputs": [],
   "source": [
    "import jsonlines\n",
    "def get_json_data(dataset_folder, model=\"bert_base\", mode=\"dev\"):\n",
    "    data = []\n",
    "    with jsonlines.open(dataset_folder+\"/\"+mode+\".jsonl\") as reader:\n",
    "        for sample in reader:\n",
    "            data.append(sample)\n",
    "    with open(dataset_folder+\"/predictions_\"+mode+\"_\"+model+\".txt\", \"r\") as f:\n",
    "        for i, line in enumerate(f):\n",
    "            data[i]['output'] = line.strip().split(\"\\t\")[2]\n",
    "    return data"
   ]
  },
  {
   "cell_type": "markdown",
   "id": "6aea89ae-88d6-427b-b7ba-ea97de81405e",
   "metadata": {
    "tags": []
   },
   "source": [
    "# cmi for correct vs incorrect"
   ]
  },
  {
   "cell_type": "markdown",
   "id": "f537dbb7-3f14-4831-a0ac-6a6a65bb06ed",
   "metadata": {},
   "source": [
    "#### sentiment analysis hinglish"
   ]
  },
  {
   "cell_type": "code",
   "execution_count": 7,
   "id": "4b8e85bf-74a8-4862-b5c0-054bccd834c7",
   "metadata": {},
   "outputs": [],
   "source": [
    "def get_cmi_stats(data, task=\"classification\", lang=\"hi\", thres=0.75, label=\"label\"):\n",
    "    if task == \"classification\":\n",
    "        cmi_overall = 0\n",
    "        cmi_correct = 0\n",
    "        cmi_incorrect = 0\n",
    "        correct = 0\n",
    "        incorrect = 0\n",
    "        for d in data :\n",
    "            if lang == \"hi\":\n",
    "                cmi = get_cmi(d)\n",
    "            else:\n",
    "                cmi = get_cmi_es(d)\n",
    "            if d[\"output\"] != d[label]:\n",
    "                cmi_correct += cmi\n",
    "                correct += 1\n",
    "            elif d[\"output\"] == d[label]:\n",
    "                cmi_incorrect += cmi\n",
    "                incorrect += 1\n",
    "            cmi_overall += cmi\n",
    "        return cmi_overall/len(data), cmi_correct/correct, cmi_incorrect/incorrect\n",
    "    elif task == \"seq_tagging\": # considering thres fraction of tokens being correct\n",
    "        cmi_overall = 0\n",
    "        cmi_correct = 0\n",
    "        cmi_incorrect = 0\n",
    "        correct = 0\n",
    "        incorrect = 0\n",
    "        for d in data :\n",
    "            if lang == \"hi\":\n",
    "                cmi = get_cmi(d)\n",
    "            else:\n",
    "                cmi = get_cmi_es(d)\n",
    "            cnt = 0\n",
    "            for (x,y) in zip(d[\"output\"].split(\" \"), d[label].split(\" \")):\n",
    "                if x == y:\n",
    "                    cnt += 1\n",
    "            if cnt/len(d[label].split(\" \")) > thres:\n",
    "                cmi_correct += cmi\n",
    "                correct += 1\n",
    "            else:\n",
    "                cmi_incorrect += cmi\n",
    "                incorrect += 1\n",
    "            cmi_overall += cmi\n",
    "        print (correct)\n",
    "        print (incorrect)\n",
    "        return cmi_overall/len(data), cmi_correct/correct, cmi_incorrect/incorrect"
   ]
  },
  {
   "cell_type": "code",
   "execution_count": 146,
   "id": "eaa636ef-d982-419c-8902-7f2f329e646a",
   "metadata": {},
   "outputs": [],
   "source": [
    "dataset_folder = \"datasets/sentimix2020/Hinglish\"\n",
    "sa_hi_bert_base_test = get_json_data(dataset_folder, \"bert_base\", \"test\")\n",
    "sa_hi_bert_tapt_test = get_json_data(dataset_folder, \"bert_tapt\", \"test\")\n",
    "sa_hi_bert_dapt_test = get_json_data(dataset_folder, \"bert_dapt\", \"test\")\n",
    "sa_hi_xlm_dapt_test = get_json_data(dataset_folder, \"xlm_dapt\", \"test\")"
   ]
  },
  {
   "cell_type": "code",
   "execution_count": 9,
   "id": "102585ed-11ba-42b4-8aa4-e1f695980957",
   "metadata": {},
   "outputs": [
    {
     "data": {
      "text/plain": [
       "(29.709541357679864, 29.61855510398888, 29.755720310558328)"
      ]
     },
     "execution_count": 9,
     "metadata": {},
     "output_type": "execute_result"
    }
   ],
   "source": [
    "get_cmi_stats(sa_hi_bert_base_test, \"classification\")"
   ]
  },
  {
   "cell_type": "code",
   "execution_count": 10,
   "id": "5c66f84f-2785-4127-bfb5-784c6d19ac3b",
   "metadata": {},
   "outputs": [
    {
     "data": {
      "text/plain": [
       "(29.709541357679864, 29.227869244171146, 29.944287856231856)"
      ]
     },
     "execution_count": 10,
     "metadata": {},
     "output_type": "execute_result"
    }
   ],
   "source": [
    "get_cmi_stats(sa_hi_bert_tapt_test, \"classification\")"
   ]
  },
  {
   "cell_type": "code",
   "execution_count": 11,
   "id": "0c24b7c8-477b-421b-a33c-c580d1a5d38e",
   "metadata": {},
   "outputs": [
    {
     "data": {
      "text/plain": [
       "(29.709541357679864, 29.28010353643281, 29.911629744149206)"
      ]
     },
     "execution_count": 11,
     "metadata": {},
     "output_type": "execute_result"
    }
   ],
   "source": [
    "get_cmi_stats(sa_hi_bert_dapt_test, \"classification\")"
   ]
  },
  {
   "cell_type": "markdown",
   "id": "12b6d474-d855-46dc-b93a-31ef0ba0ccb9",
   "metadata": {},
   "source": [
    "#### pos hinglish"
   ]
  },
  {
   "cell_type": "code",
   "execution_count": 12,
   "id": "3d1eb234-6988-42f3-83e2-9c1918a1ff03",
   "metadata": {},
   "outputs": [],
   "source": [
    "dataset_folder = \"datasets/gluecos_pos_fg/Hinglish\"\n",
    "pos_hi_bert_base_test = get_json_data(dataset_folder, \"bert_base\", \"dev\")\n",
    "pos_hi_bert_tapt_test = get_json_data(dataset_folder, \"bert_tapt\", \"dev\")\n",
    "pos_hi_bert_dapt_test = get_json_data(dataset_folder, \"bert_dapt\", \"dev\")"
   ]
  },
  {
   "cell_type": "code",
   "execution_count": 169,
   "id": "259d2887-3eeb-4c75-b97f-fa670815f8ea",
   "metadata": {},
   "outputs": [
    {
     "name": "stdout",
     "output_type": "stream",
     "text": [
      "118\n",
      "143\n"
     ]
    },
    {
     "data": {
      "text/plain": [
       "(15.08483517083987, 10.273389159049481, 19.055119292457114)"
      ]
     },
     "execution_count": 169,
     "metadata": {},
     "output_type": "execute_result"
    }
   ],
   "source": [
    "get_cmi_stats(pos_hi_bert_base_test, \"seq_tagging\", \"hi\", 0.8, \"postags\")"
   ]
  },
  {
   "cell_type": "code",
   "execution_count": 14,
   "id": "27a6973a-1791-4109-8f1c-ddb96dd2e002",
   "metadata": {},
   "outputs": [
    {
     "name": "stdout",
     "output_type": "stream",
     "text": [
      "146\n",
      "115\n"
     ]
    },
    {
     "data": {
      "text/plain": [
       "(15.08483517083987, 13.522684165417655, 17.06808775163678)"
      ]
     },
     "execution_count": 14,
     "metadata": {},
     "output_type": "execute_result"
    }
   ],
   "source": [
    "get_cmi_stats(pos_hi_bert_tapt_test, \"seq_tagging\", \"hi\", 0.8, \"postags\")"
   ]
  },
  {
   "cell_type": "code",
   "execution_count": 15,
   "id": "1b1559cc-e0f3-4d59-aabc-4606505541fe",
   "metadata": {},
   "outputs": [
    {
     "name": "stdout",
     "output_type": "stream",
     "text": [
      "141\n",
      "120\n"
     ]
    },
    {
     "data": {
      "text/plain": [
       "(15.08483517083987, 12.419017435815318, 18.217171009493725)"
      ]
     },
     "execution_count": 15,
     "metadata": {},
     "output_type": "execute_result"
    }
   ],
   "source": [
    "get_cmi_stats(pos_hi_bert_dapt_test, \"seq_tagging\", \"hi\", 0.8, \"postags\")"
   ]
  },
  {
   "cell_type": "markdown",
   "id": "00f98ff3-da48-412d-ba30-eb9bd0e98656",
   "metadata": {},
   "source": [
    "#### sentiment analysis spanglish"
   ]
  },
  {
   "cell_type": "code",
   "execution_count": 16,
   "id": "c1eaa5eb-f4dc-4648-9cd7-aaa780f5a0e8",
   "metadata": {},
   "outputs": [],
   "source": [
    "dataset_folder = \"datasets/sentimix2020/Spanglish\"\n",
    "sa_es_bert_base_dev = get_json_data(dataset_folder, \"bert_base\", \"dev\")\n",
    "sa_es_bert_tapt_dev = get_json_data(dataset_folder, \"bert_tapt\", \"dev\")"
   ]
  },
  {
   "cell_type": "code",
   "execution_count": 17,
   "id": "147b9f96-7c7a-4d91-ac88-416300d23ae0",
   "metadata": {},
   "outputs": [
    {
     "data": {
      "text/plain": [
       "(20.565232490684824, 19.98840899596091, 21.103377943209185)"
      ]
     },
     "execution_count": 17,
     "metadata": {},
     "output_type": "execute_result"
    }
   ],
   "source": [
    "get_cmi_stats(sa_es_bert_base_dev, \"classification\", \"es\")"
   ]
  },
  {
   "cell_type": "code",
   "execution_count": 18,
   "id": "f5e8b6b4-77b7-4022-861e-982006cda547",
   "metadata": {},
   "outputs": [
    {
     "data": {
      "text/plain": [
       "(20.565232490684824, 20.275320163658478, 20.825071685748778)"
      ]
     },
     "execution_count": 18,
     "metadata": {},
     "output_type": "execute_result"
    }
   ],
   "source": [
    "get_cmi_stats(sa_es_bert_tapt_dev, \"classification\", \"es\")"
   ]
  },
  {
   "cell_type": "markdown",
   "id": "f1d444d1-4848-4c89-ae11-86820d04f871",
   "metadata": {},
   "source": [
    "#### nert hinglish"
   ]
  },
  {
   "cell_type": "code",
   "execution_count": 138,
   "id": "a50eba7b-1675-4165-8bd4-98c12d5f42b8",
   "metadata": {},
   "outputs": [],
   "source": [
    "dataset_folder = \"datasets/gluecos_ner/Hinglish\"\n",
    "ner_hi_bert_base_dev = get_json_data(dataset_folder, \"bert_base\", \"dev\")"
   ]
  },
  {
   "cell_type": "markdown",
   "id": "5fb8c13e-5043-43de-90a7-01c6e9d2ae01",
   "metadata": {},
   "source": [
    "# Top 10 words in sentence for correct vs incorrect for classification tasks"
   ]
  },
  {
   "cell_type": "code",
   "execution_count": 57,
   "id": "fc7ca8e7-4720-43fc-a2fe-ba21d3eebc0c",
   "metadata": {},
   "outputs": [],
   "source": [
    "def get_unique_labels(data):\n",
    "    uq = set()\n",
    "    for d in data:\n",
    "        uq.add(d[\"label\"])\n",
    "        uq.add(d[\"output\"])\n",
    "    classes = list(uq)\n",
    "    class2id = {}\n",
    "    for i, c in enumerate(classes):\n",
    "        class2id[c] = i\n",
    "    return classes, class2id"
   ]
  },
  {
   "cell_type": "code",
   "execution_count": 163,
   "id": "851ca7f0-a63a-4cd5-96ad-9eba51d2a312",
   "metadata": {},
   "outputs": [],
   "source": [
    "from sklearn.feature_extraction.text import CountVectorizer\n",
    "def get_top_n_words(corpus, n=None):\n",
    "    vec = CountVectorizer().fit(corpus)\n",
    "    bag_of_words = vec.transform(corpus)\n",
    "    sum_words = bag_of_words.sum(axis=0) \n",
    "    words_freq = [(word, sum_words[0, idx]) for word, idx in vec.vocabulary_.items()]\n",
    "    words_freq =sorted(words_freq, key = lambda x: x[1], reverse=True)\n",
    "    return words_freq[:n]\n",
    "\n",
    "def get_sent(d, thres_len=5):\n",
    "    sent = \"\"\n",
    "    words = d[\"text\"].split(\" \")\n",
    "    langids = d[\"langids\"].split(\" \")\n",
    "    for (w, l) in zip(words, langids):\n",
    "        if l not in [\"hi\", \"en\"]:\n",
    "            continue\n",
    "        if len(w) > 3 :\n",
    "            sent += w + \" \"\n",
    "    return sent.strip()\n",
    "\n",
    "def get_top_n_stats(data):\n",
    "    classes, class2id = get_unique_labels(data)\n",
    "    true_data = [[] for i in range(len(classes))]\n",
    "    correct_data = [[] for i in range(len(classes))]\n",
    "    incorrect_data = [[] for i in range(len(classes))]\n",
    "    for d in data:\n",
    "        sent = get_sent(d)\n",
    "        if len(sent) > 0 :\n",
    "            true_data[class2id[d[\"label\"]]].append(sent)\n",
    "            if d[\"label\"] == d[\"output\"]:\n",
    "                correct_data[class2id[d[\"output\"]]].append(sent)\n",
    "            else:\n",
    "                incorrect_data[class2id[d[\"output\"]]].append(sent)\n",
    "    top_n_true = [get_top_n_words(true_data[i], 20) for i in range(len(classes))]\n",
    "    top_n_correct = [get_top_n_words(correct_data[i], 20) for i in range(len(classes))]\n",
    "    top_n_incorrect = [get_top_n_words(incorrect_data[i], 20) for i in range(len(classes))]\n",
    "    return classes, top_n_true, top_n_correct, top_n_incorrect\n",
    "    "
   ]
  },
  {
   "cell_type": "code",
   "execution_count": 164,
   "id": "9ccaf4ec-3261-4ca9-81be-a9804e27b981",
   "metadata": {},
   "outputs": [
    {
     "data": {
      "text/plain": [
       "(['positive', 'negative', 'neutral'],\n",
       " [[('https', 516),\n",
       "   ('love', 109),\n",
       "   ('modi', 97),\n",
       "   ('good', 96),\n",
       "   ('best', 90),\n",
       "   ('happy', 85),\n",
       "   ('narendramodi', 83),\n",
       "   ('this', 77),\n",
       "   ('bahut', 68),\n",
       "   ('great', 63),\n",
       "   ('your', 61),\n",
       "   ('birthday', 55),\n",
       "   ('congratulations', 52),\n",
       "   ('bhai', 50),\n",
       "   ('nahi', 50),\n",
       "   ('with', 47),\n",
       "   ('thank', 45),\n",
       "   ('bharat', 45),\n",
       "   ('very', 45),\n",
       "   ('much', 42)],\n",
       "  [('https', 503),\n",
       "   ('nahi', 241),\n",
       "   ('modi', 63),\n",
       "   ('khud', 50),\n",
       "   ('pakistan', 48),\n",
       "   ('teri', 46),\n",
       "   ('rahe', 42),\n",
       "   ('tere', 40),\n",
       "   ('chutiye', 40),\n",
       "   ('desh', 40),\n",
       "   ('congress', 40),\n",
       "   ('hain', 39),\n",
       "   ('kuch', 39),\n",
       "   ('chutiya', 38),\n",
       "   ('hindu', 37),\n",
       "   ('chor', 36),\n",
       "   ('jaise', 31),\n",
       "   ('media', 31),\n",
       "   ('kabhi', 31),\n",
       "   ('kisi', 30)],\n",
       "  [('https', 592),\n",
       "   ('nahi', 248),\n",
       "   ('modi', 75),\n",
       "   ('hain', 56),\n",
       "   ('this', 48),\n",
       "   ('that', 42),\n",
       "   ('india', 41),\n",
       "   ('desh', 41),\n",
       "   ('kuch', 40),\n",
       "   ('mein', 39),\n",
       "   ('congress', 38),\n",
       "   ('with', 37),\n",
       "   ('narendramodi', 37),\n",
       "   ('your', 35),\n",
       "   ('media', 34),\n",
       "   ('bhai', 33),\n",
       "   ('gaya', 32),\n",
       "   ('kisi', 32),\n",
       "   ('main', 32),\n",
       "   ('pakistan', 31)]],\n",
       " [[('https', 381),\n",
       "   ('love', 106),\n",
       "   ('good', 91),\n",
       "   ('happy', 84),\n",
       "   ('best', 83),\n",
       "   ('narendramodi', 78),\n",
       "   ('modi', 71),\n",
       "   ('this', 66),\n",
       "   ('great', 58),\n",
       "   ('bahut', 58),\n",
       "   ('your', 57),\n",
       "   ('birthday', 53),\n",
       "   ('congratulations', 52),\n",
       "   ('thank', 42),\n",
       "   ('with', 42),\n",
       "   ('bless', 40),\n",
       "   ('very', 40),\n",
       "   ('much', 39),\n",
       "   ('allah', 38),\n",
       "   ('bhai', 37)],\n",
       "  [('https', 381),\n",
       "   ('nahi', 172),\n",
       "   ('teri', 46),\n",
       "   ('pakistan', 42),\n",
       "   ('chutiye', 40),\n",
       "   ('tere', 38),\n",
       "   ('modi', 38),\n",
       "   ('khud', 38),\n",
       "   ('chutiya', 37),\n",
       "   ('hindu', 36),\n",
       "   ('chor', 36),\n",
       "   ('rahe', 35),\n",
       "   ('hain', 33),\n",
       "   ('sale', 30),\n",
       "   ('jaise', 29),\n",
       "   ('kuch', 29),\n",
       "   ('congress', 29),\n",
       "   ('baap', 28),\n",
       "   ('desh', 28),\n",
       "   ('media', 27)],\n",
       "  [('https', 381),\n",
       "   ('nahi', 178),\n",
       "   ('modi', 50),\n",
       "   ('this', 37),\n",
       "   ('hain', 36),\n",
       "   ('that', 30),\n",
       "   ('mein', 29),\n",
       "   ('your', 27),\n",
       "   ('kuch', 25),\n",
       "   ('main', 25),\n",
       "   ('india', 23),\n",
       "   ('with', 23),\n",
       "   ('bhai', 22),\n",
       "   ('diya', 21),\n",
       "   ('narendramodi', 21),\n",
       "   ('raha', 20),\n",
       "   ('desh', 20),\n",
       "   ('gaya', 19),\n",
       "   ('congress', 19),\n",
       "   ('bharat', 19)]],\n",
       " [[('https', 91),\n",
       "   ('love', 25),\n",
       "   ('with', 16),\n",
       "   ('modi', 14),\n",
       "   ('good', 14),\n",
       "   ('narendramodi', 13),\n",
       "   ('india', 13),\n",
       "   ('bahut', 12),\n",
       "   ('have', 11),\n",
       "   ('this', 10),\n",
       "   ('great', 10),\n",
       "   ('very', 9),\n",
       "   ('that', 9),\n",
       "   ('best', 9),\n",
       "   ('please', 8),\n",
       "   ('happy', 8),\n",
       "   ('bharat', 8),\n",
       "   ('wish', 8),\n",
       "   ('make', 7),\n",
       "   ('thank', 7)],\n",
       "  [('https', 145),\n",
       "   ('nahi', 76),\n",
       "   ('hain', 21),\n",
       "   ('pakistan', 20),\n",
       "   ('congress', 18),\n",
       "   ('modi', 17),\n",
       "   ('media', 17),\n",
       "   ('desh', 15),\n",
       "   ('gaya', 14),\n",
       "   ('kisi', 14),\n",
       "   ('liye', 13),\n",
       "   ('rahe', 13),\n",
       "   ('kuch', 12),\n",
       "   ('hoti', 12),\n",
       "   ('karne', 11),\n",
       "   ('sirf', 11),\n",
       "   ('wale', 10),\n",
       "   ('chor', 9),\n",
       "   ('muslim', 9),\n",
       "   ('hindu', 9)],\n",
       "  [('https', 232),\n",
       "   ('nahi', 100),\n",
       "   ('modi', 45),\n",
       "   ('liye', 27),\n",
       "   ('desh', 21),\n",
       "   ('this', 20),\n",
       "   ('like', 20),\n",
       "   ('diya', 19),\n",
       "   ('that', 17),\n",
       "   ('bhai', 17),\n",
       "   ('khud', 16),\n",
       "   ('mein', 16),\n",
       "   ('kabhi', 15),\n",
       "   ('hain', 15),\n",
       "   ('have', 14),\n",
       "   ('gaya', 14),\n",
       "   ('bahut', 14),\n",
       "   ('free', 13),\n",
       "   ('congress', 13),\n",
       "   ('kuch', 12)]])"
      ]
     },
     "execution_count": 164,
     "metadata": {},
     "output_type": "execute_result"
    }
   ],
   "source": [
    "get_top_n_stats(sa_hi_xlm_dapt_test)"
   ]
  },
  {
   "cell_type": "code",
   "execution_count": 28,
   "id": "bd112634-d6ff-4fa3-a035-65b20d69a077",
   "metadata": {},
   "outputs": [
    {
     "data": {
      "text/plain": [
       "([('https', 1085),\n",
       "  ('co', 1062),\n",
       "  ('hai', 590),\n",
       "  ('ki', 494),\n",
       "  ('to', 478),\n",
       "  ('ko', 406),\n",
       "  ('rt', 353),\n",
       "  ('nahi', 338),\n",
       "  ('ka', 331),\n",
       "  ('you', 310),\n",
       "  ('me', 299),\n",
       "  ('ke', 293),\n",
       "  ('the', 284),\n",
       "  ('is', 258),\n",
       "  ('ji', 256),\n",
       "  ('se', 243),\n",
       "  ('ho', 215),\n",
       "  ('ye', 210),\n",
       "  ('and', 199),\n",
       "  ('of', 194),\n",
       "  ('for', 174),\n",
       "  ('aur', 165),\n",
       "  ('modi', 158),\n",
       "  ('bhi', 152),\n",
       "  ('hi', 150),\n",
       "  ('in', 138),\n",
       "  ('sir', 137),\n",
       "  ('my', 134),\n",
       "  ('ne', 121),\n",
       "  ('it', 118),\n",
       "  ('love', 117),\n",
       "  ('aap', 116),\n",
       "  ('he', 110),\n",
       "  ('jo', 109),\n",
       "  ('or', 106),\n",
       "  ('narendramodi', 105),\n",
       "  ('nhi', 102),\n",
       "  ('this', 102),\n",
       "  ('good', 101),\n",
       "  ('koi', 99),\n",
       "  ('all', 98),\n",
       "  ('so', 98),\n",
       "  ('tha', 96),\n",
       "  ('bjp', 90),\n",
       "  ('we', 88),\n",
       "  ('kar', 87),\n",
       "  ('ab', 87),\n",
       "  ('happy', 86),\n",
       "  ('desh', 86),\n",
       "  ('best', 84),\n",
       "  ('tu', 84),\n",
       "  ('bahut', 84),\n",
       "  ('are', 82),\n",
       "  ('ek', 81),\n",
       "  ('hain', 80),\n",
       "  ('tum', 77),\n",
       "  ('your', 77),\n",
       "  ('india', 77),\n",
       "  ('kya', 75),\n",
       "  ('na', 72),\n",
       "  ('on', 70),\n",
       "  ('that', 69),\n",
       "  ('bhai', 69),\n",
       "  ('pakistan', 67),\n",
       "  ('kuch', 64),\n",
       "  ('be', 63),\n",
       "  ('great', 61),\n",
       "  ('log', 60),\n",
       "  ('no', 59),\n",
       "  ('with', 59),\n",
       "  ('bharat', 59),\n",
       "  ('our', 57),\n",
       "  ('one', 56),\n",
       "  ('pe', 56),\n",
       "  ('day', 56),\n",
       "  ('not', 55),\n",
       "  ('but', 55),\n",
       "  ('wo', 54),\n",
       "  ('birthday', 54),\n",
       "  ('yeh', 53),\n",
       "  ('ni', 52),\n",
       "  ('congratulations', 52),\n",
       "  ('mein', 52),\n",
       "  ('media', 50),\n",
       "  ('bc', 50),\n",
       "  ('pm', 49),\n",
       "  ('congress', 49),\n",
       "  ('par', 48),\n",
       "  ('very', 47),\n",
       "  ('us', 46),\n",
       "  ('main', 46),\n",
       "  ('teri', 46),\n",
       "  ('khud', 45),\n",
       "  ('toh', 44),\n",
       "  ('much', 44),\n",
       "  ('ha', 44),\n",
       "  ('mai', 44),\n",
       "  ('allah', 43),\n",
       "  ('diya', 43),\n",
       "  ('ya', 43)],\n",
       " [('https', 526),\n",
       "  ('co', 516),\n",
       "  ('hai', 307),\n",
       "  ('ki', 249),\n",
       "  ('to', 244),\n",
       "  ('ko', 213),\n",
       "  ('nahi', 201),\n",
       "  ('ka', 192),\n",
       "  ('ke', 181),\n",
       "  ('rt', 177),\n",
       "  ('me', 148),\n",
       "  ('is', 147),\n",
       "  ('se', 145),\n",
       "  ('you', 137),\n",
       "  ('the', 134),\n",
       "  ('ho', 120),\n",
       "  ('bhi', 119),\n",
       "  ('ye', 118),\n",
       "  ('aur', 102),\n",
       "  ('hi', 94),\n",
       "  ('ji', 86),\n",
       "  ('modi', 77),\n",
       "  ('jo', 76),\n",
       "  ('for', 74),\n",
       "  ('of', 74),\n",
       "  ('na', 72),\n",
       "  ('ne', 72),\n",
       "  ('koi', 69),\n",
       "  ('in', 67),\n",
       "  ('he', 65),\n",
       "  ('ab', 64),\n",
       "  ('jai', 58),\n",
       "  ('it', 57),\n",
       "  ('and', 56),\n",
       "  ('bjp', 56),\n",
       "  ('sir', 55),\n",
       "  ('nhi', 53),\n",
       "  ('we', 53),\n",
       "  ('or', 52),\n",
       "  ('ek', 51),\n",
       "  ('aap', 50),\n",
       "  ('my', 48),\n",
       "  ('kar', 46),\n",
       "  ('par', 42),\n",
       "  ('this', 42),\n",
       "  ('liye', 42),\n",
       "  ('are', 42),\n",
       "  ('log', 40),\n",
       "  ('hain', 39),\n",
       "  ('tum', 39),\n",
       "  ('tha', 39),\n",
       "  ('pe', 38),\n",
       "  ('ram', 38),\n",
       "  ('all', 37),\n",
       "  ('with', 37),\n",
       "  ('congress', 37),\n",
       "  ('kya', 37),\n",
       "  ('not', 37),\n",
       "  ('so', 36),\n",
       "  ('kr', 35),\n",
       "  ('kisi', 35),\n",
       "  ('but', 34),\n",
       "  ('on', 34),\n",
       "  ('wo', 33),\n",
       "  ('pakistan', 33),\n",
       "  ('desh', 33),\n",
       "  ('can', 33),\n",
       "  ('bahut', 33),\n",
       "  ('india', 32),\n",
       "  ('narendramodi', 32),\n",
       "  ('diya', 32),\n",
       "  ('that', 32),\n",
       "  ('bhai', 31),\n",
       "  ('have', 31),\n",
       "  ('love', 30),\n",
       "  ('har', 30),\n",
       "  ('yeh', 30),\n",
       "  ('khud', 30),\n",
       "  ('good', 30),\n",
       "  ('like', 30),\n",
       "  ('your', 29),\n",
       "  ('rahe', 29),\n",
       "  ('toh', 29),\n",
       "  ('mein', 29),\n",
       "  ('kabhi', 27),\n",
       "  ('as', 27),\n",
       "  ('no', 27),\n",
       "  ('be', 25),\n",
       "  ('one', 25),\n",
       "  ('best', 25),\n",
       "  ('kuch', 24),\n",
       "  ('apne', 23),\n",
       "  ('gaya', 23),\n",
       "  ('sab', 23),\n",
       "  ('tu', 23),\n",
       "  ('ni', 23),\n",
       "  ('logo', 23),\n",
       "  ('de', 23),\n",
       "  ('kiya', 22),\n",
       "  ('hum', 22)])"
      ]
     },
     "execution_count": 28,
     "metadata": {},
     "output_type": "execute_result"
    }
   ],
   "source": [
    "get_top_10_stats(sa_hi_bert_tapt_test)"
   ]
  },
  {
   "cell_type": "markdown",
   "id": "57bfa6a8-7b31-458a-9937-c4e23418b961",
   "metadata": {},
   "source": [
    "# Confusion matrix"
   ]
  },
  {
   "cell_type": "markdown",
   "id": "6ed79d8f-35e4-46dd-ae16-09e963a0475f",
   "metadata": {},
   "source": [
    "#### sentiment analysis hinglish"
   ]
  },
  {
   "cell_type": "code",
   "execution_count": 156,
   "id": "76662309-122c-40be-b756-6d507877d1e8",
   "metadata": {},
   "outputs": [],
   "source": [
    "import matplotlib.pyplot as plt\n",
    "\n",
    "from sklearn.metrics import confusion_matrix\n",
    "import itertools\n",
    "import numpy as np\n",
    "import random\n",
    "\n",
    "\n",
    "def plot_confusion_matrix(cm, classes, title = \"Confusion matrix\", normalize=False, cmap=plt.cm.Blues):\n",
    "    if normalize:\n",
    "        cm = cm.astype('float') / cm.sum(axis=1)[:, np.newaxis]\n",
    "        print(\"Normalized confusion matrix\")\n",
    "    else:\n",
    "        print('Confusion matrix, without normalization')\n",
    "    print (cm)\n",
    "    plt.figure(figsize=(6,6))\n",
    "    plt.imshow(cm, interpolation='nearest', cmap=cmap)\n",
    "    plt.title(title)\n",
    "    plt.colorbar()\n",
    "    tick_marks = np.arange(len(classes))\n",
    "    plt.xticks(tick_marks, classes, rotation=45)\n",
    "    plt.yticks(tick_marks, classes)\n",
    "\n",
    "    fmt = '.2f' if normalize else 'd'\n",
    "    thresh = cm.max() / 2.\n",
    "    for i, j in itertools.product(range(cm.shape[0]), range(cm.shape[1])):\n",
    "        plt.text(j, i, format(cm[i, j], fmt), horizontalalignment=\"center\", color=\"white\" if cm[i, j] > thresh else \"black\")\n",
    "\n",
    "    plt.tight_layout()\n",
    "    plt.ylabel('True label')\n",
    "    plt.xlabel('Predicted label')\n",
    "    plt.title(title)\n",
    "    plt.savefig(\"confusion-matrix-sa.jpg\")\n",
    "    plt.show()"
   ]
  },
  {
   "cell_type": "code",
   "execution_count": 157,
   "id": "3a77c81d-5392-4ddb-a9a9-b3db586c2b50",
   "metadata": {},
   "outputs": [],
   "source": [
    "import numpy as np\n",
    "\n",
    "def confusion_matrix(data, title = \"Confusion matrix\", task=\"classification\", label=\"label\") :\n",
    "    if task == \"classification\":\n",
    "        classes, class2id = get_unique_labels(data)\n",
    "        n = len(classes)\n",
    "        cm = np.zeros((n, n), dtype=np.int32)\n",
    "        for d in data:\n",
    "            cm[class2id[d[label]]][class2id[d[\"output\"]]] += 1\n",
    "        plot_confusion_matrix(cm, classes, title)"
   ]
  },
  {
   "cell_type": "code",
   "execution_count": 158,
   "id": "d3da7cf0-b00e-46f9-bf08-b354782ef92e",
   "metadata": {},
   "outputs": [
    {
     "name": "stdout",
     "output_type": "stream",
     "text": [
      "Confusion matrix, without normalization\n",
      "[[750  32 218]\n",
      " [ 20 667 213]\n",
      " [158 210 732]]\n"
     ]
    },
    {
     "data": {
      "image/png": "[encoded data removed]",
      "text/plain": [
       "<Figure size 432x432 with 2 Axes>"
      ]
     },
     "metadata": {
      "needs_background": "light"
     },
     "output_type": "display_data"
    }
   ],
   "source": [
    "confusion_matrix(sa_hi_xlm_dapt_test, \"Sentiment Analysis XLM-R (DAPT)\")"
   ]
  },
  {
   "cell_type": "code",
   "execution_count": null,
   "id": "392be506-aadd-4bcc-ac9f-a7ba8da021ad",
   "metadata": {},
   "outputs": [],
   "source": [
    "confusion_matrix(sa_hi_bert_tapt_test, \"Sentiment Analysis mBERT TAPT\")"
   ]
  },
  {
   "cell_type": "code",
   "execution_count": null,
   "id": "c81fc951-74e9-4e28-88b1-34b5c6bd4508",
   "metadata": {},
   "outputs": [],
   "source": [
    "confusion_matrix(sa_hi_bert_tapt_test, \"Sentiment Analysis mBERT DAPT\")"
   ]
  },
  {
   "cell_type": "markdown",
   "id": "314547a1-d503-42d2-8a06-43785cc31f0f",
   "metadata": {},
   "source": [
    "# matrix vs embedded lang acc"
   ]
  },
  {
   "cell_type": "markdown",
   "id": "a7512f14-0673-437f-8816-e7fa3a88cd45",
   "metadata": {},
   "source": [
    "#### sentiment analysis hinglish"
   ]
  },
  {
   "cell_type": "code",
   "execution_count": 79,
   "id": "4b885ae9-bd55-41f9-9c3d-2b1a494f090f",
   "metadata": {},
   "outputs": [],
   "source": [
    "def get_eh_acc(data):\n",
    "    en_to_hi = {'total' : 0, 'correct' : 0}\n",
    "    hi_to_en = {'total' : 0, 'correct' : 0}\n",
    "    for d in data:\n",
    "        eh = 0\n",
    "        he = 0\n",
    "        pr = \"\"\n",
    "        for l in d[\"langids\"].strip().split(\" \"):\n",
    "            if l not in [\"en\", \"hi\"]:\n",
    "                continue\n",
    "            if pr == \"en\" and l == \"hi\" :\n",
    "                eh += 1\n",
    "            if pr == \"hi\" and l == \"en\" :\n",
    "                he += 1\n",
    "            pr = l\n",
    "        if eh > he :\n",
    "            en_to_hi['total'] += 1\n",
    "            en_to_hi['correct'] += d['label'] == d['output']\n",
    "        elif eh < he :\n",
    "            hi_to_en['total'] += 1\n",
    "            hi_to_en['correct'] += d['label'] == d['output']\n",
    "    return en_to_hi['correct']/en_to_hi['total'], hi_to_en['correct']/hi_to_en['total']"
   ]
  },
  {
   "cell_type": "code",
   "execution_count": 80,
   "id": "bdfeeba9-f958-4426-b785-65403f2ee4e8",
   "metadata": {},
   "outputs": [
    {
     "data": {
      "text/plain": [
       "(0.6445993031358885, 0.676923076923077)"
      ]
     },
     "execution_count": 80,
     "metadata": {},
     "output_type": "execute_result"
    }
   ],
   "source": [
    "get_eh_acc(sa_hi_bert_base_test)"
   ]
  },
  {
   "cell_type": "code",
   "execution_count": 83,
   "id": "e6ef89f6-05e2-4df5-b25d-2b565e900a31",
   "metadata": {},
   "outputs": [],
   "source": [
    "def get_es_acc(data):\n",
    "    en_to_es = {'total' : 0, 'correct' : 0}\n",
    "    es_to_en = {'total' : 0, 'correct' : 0}\n",
    "    for d in data:\n",
    "        es = 0\n",
    "        se = 0\n",
    "        pr = \"\"\n",
    "        for l in d[\"langids_pp\"].strip().split(\" \"):\n",
    "            if l not in [\"lang1\", \"lang2\"]:\n",
    "                continue\n",
    "            if pr == \"lang1\" and l == \"lang2\" :\n",
    "                es += 1\n",
    "            if pr == \"lang2\" and l == \"lang1\" :\n",
    "                se += 1\n",
    "            pr = l\n",
    "        if es > se :\n",
    "            en_to_es['total'] += 1\n",
    "            en_to_es['correct'] += d['label'] == d['output']\n",
    "        elif es < se :\n",
    "            es_to_en['total'] += 1\n",
    "            es_to_en['correct'] += d['label'] == d['output']\n",
    "    return en_to_es['correct']/en_to_es['total'], es_to_en['correct']/es_to_en['total']"
   ]
  },
  {
   "cell_type": "code",
   "execution_count": 84,
   "id": "3390c418-a1b1-4caa-8067-170452973c50",
   "metadata": {},
   "outputs": [
    {
     "data": {
      "text/plain": [
       "(0.5341365461847389, 0.5162187210379982)"
      ]
     },
     "execution_count": 84,
     "metadata": {},
     "output_type": "execute_result"
    }
   ],
   "source": [
    "get_es_acc(sa_es_bert_base_dev)"
   ]
  },
  {
   "cell_type": "markdown",
   "id": "909ac992-113c-4a1a-b01f-3d143bfbbb3a",
   "metadata": {},
   "source": [
    "# code switching acc"
   ]
  },
  {
   "cell_type": "code",
   "execution_count": 87,
   "id": "a2a24cb8-75d3-47f2-95d5-74c7f2220885",
   "metadata": {},
   "outputs": [],
   "source": [
    "def get_cs_acc(data):\n",
    "    cs_correct = 0\n",
    "    cnt_correct = 0\n",
    "    cs_incorrect = 0\n",
    "    cnt_incorrect = 0\n",
    "    for d in data:\n",
    "        pr = \"\"\n",
    "        cs = 0\n",
    "        for l in d[\"langids\"].strip().split(\" \"):\n",
    "            if l not in [\"en\", \"hi\"]:\n",
    "                continue\n",
    "            if pr == \"en\" and l == \"hi\" :\n",
    "                cs += 1\n",
    "            if pr == \"hi\" and l == \"en\" :\n",
    "                cs += 1\n",
    "            pr = l\n",
    "        if d[\"label\"] == d[\"output\"]:\n",
    "            cs_correct += cs\n",
    "            cnt_correct += 1\n",
    "        else:\n",
    "            cs_incorrect += cs\n",
    "            cnt_incorrect += 1\n",
    "    return cs_correct/cnt_correct, cs_incorrect/cnt_incorrect"
   ]
  },
  {
   "cell_type": "code",
   "execution_count": 91,
   "id": "55a8fef7-2410-4365-acbd-19136ff7b420",
   "metadata": {},
   "outputs": [
    {
     "data": {
      "text/plain": [
       "(3.422613065326633, 3.4613861386138614)"
      ]
     },
     "execution_count": 91,
     "metadata": {},
     "output_type": "execute_result"
    }
   ],
   "source": [
    "get_cs_acc(sa_hi_bert_base_test)"
   ]
  },
  {
   "cell_type": "code",
   "execution_count": 167,
   "id": "0d8bba51-cdf1-4d4e-aee8-a5c9877288ac",
   "metadata": {},
   "outputs": [],
   "source": [
    "def get_cs_acc_seq(data, label=\"postags\", thres=0.8):\n",
    "    cs_correct = 0\n",
    "    cnt_correct = 0\n",
    "    cs_incorrect = 0\n",
    "    cnt_incorrect = 0\n",
    "    for d in data:\n",
    "        pr = \"\"\n",
    "        cs = 0\n",
    "        for l in d[\"langids\"].strip().split(\" \"):\n",
    "            if l not in [\"en\", \"hi\"]:\n",
    "                continue\n",
    "            if pr == \"en\" and l == \"hi\" :\n",
    "                cs += 1\n",
    "            if pr == \"hi\" and l == \"en\" :\n",
    "                cs += 1\n",
    "            pr = l\n",
    "        cnt = 0\n",
    "        for (x,y) in zip(d[\"output\"].split(\" \"), d[label].split(\" \")):\n",
    "            if x == y:\n",
    "                cnt += 1\n",
    "        if cnt/len(d[label].split(\" \")) > thres:\n",
    "            cs_correct += cs\n",
    "            cnt_correct += 1\n",
    "        else:\n",
    "            cs_incorrect += cs\n",
    "            cnt_incorrect += 1\n",
    "    return cs_correct/cnt_correct, cs_incorrect/cnt_incorrect"
   ]
  },
  {
   "cell_type": "code",
   "execution_count": 168,
   "id": "906d0d26-de7d-4d41-8892-b4dcd0a7c304",
   "metadata": {},
   "outputs": [
    {
     "data": {
      "text/plain": [
       "(1.9491525423728813, 2.769230769230769)"
      ]
     },
     "execution_count": 168,
     "metadata": {},
     "output_type": "execute_result"
    }
   ],
   "source": [
    "get_cs_acc_seq(pos_hi_bert_base_test)"
   ]
  },
  {
   "cell_type": "markdown",
   "id": "fe1c7727-5216-4ce3-8edd-97fdcf351abe",
   "metadata": {},
   "source": [
    "# switching points accuracy"
   ]
  },
  {
   "cell_type": "code",
   "execution_count": 172,
   "id": "6d5da3ab-bf0f-4b9b-8b23-5a29c2ee1947",
   "metadata": {},
   "outputs": [],
   "source": [
    "def get_sp_seq_acc(data, lab = \"postags\"):\n",
    "    cs_correct = 0\n",
    "    cs_incorrect = 0\n",
    "    eh_correct = 0\n",
    "    eh_incorrect = 0\n",
    "    he_correct = 0\n",
    "    he_incorrect = 0\n",
    "    cs = 0\n",
    "    eh = 0\n",
    "    he = 0\n",
    "    for d in data:\n",
    "        pr = \"\"\n",
    "        label = d[lab].split(\" \")\n",
    "        output = d[\"output\"].strip().split(\" \")\n",
    "        for i, l in enumerate(d[\"langids\"].strip().split(\" \")):\n",
    "            if l not in [\"en\", \"hi\"]:\n",
    "                pr = \"\"\n",
    "                continue\n",
    "            if pr == \"en\" and l == \"hi\" :\n",
    "                if output[i] == label[i]:\n",
    "                    eh_correct += 1\n",
    "                    cs_correct += 1\n",
    "                else:\n",
    "                    eh_incorrect += 1\n",
    "                    cs_incorrect += 1\n",
    "                eh += 1\n",
    "                cs += 1\n",
    "            if pr == \"hi\" and l == \"en\" :\n",
    "                if output[i] == label[i]:\n",
    "                    he_correct += 1\n",
    "                    cs_correct += 1\n",
    "                else:\n",
    "                    he_incorrect += 1\n",
    "                    cs_incorrect += 1\n",
    "                he += 1\n",
    "                cs += 1\n",
    "            pr = l\n",
    "    return cs_correct/cs, cs_incorrect/cs, eh_correct/eh, eh_incorrect/eh,  he_correct/he, he_incorrect/he"
   ]
  },
  {
   "cell_type": "code",
   "execution_count": 173,
   "id": "8d59803b-8aa9-4a3d-ab20-6f411b29b7db",
   "metadata": {},
   "outputs": [
    {
     "data": {
      "text/plain": [
       "(0.678030303030303,\n",
       " 0.32196969696969696,\n",
       " 0.60431654676259,\n",
       " 0.39568345323741005,\n",
       " 0.76,\n",
       " 0.24)"
      ]
     },
     "execution_count": 173,
     "metadata": {},
     "output_type": "execute_result"
    }
   ],
   "source": [
    "get_sp_seq_acc(pos_hi_bert_base_test, \"postags\")"
   ]
  },
  {
   "cell_type": "code",
   "execution_count": 141,
   "id": "8851b034-ceab-4f12-bbda-e29f97f69e0f",
   "metadata": {},
   "outputs": [
    {
     "data": {
      "text/plain": [
       "{'dataset': 'gluecos_ner',\n",
       " 'task': 'seq_tagging',\n",
       " 'split_type': 'dev',\n",
       " 'uid': 0,\n",
       " 'text': 'Suna hai #Notebandi se atankiyo ki #Nasbandi karni thi Kaka Contraceptive lekar gae the par Viagra gift kar ke aa gae #NoteBandi',\n",
       " 'langids': None,\n",
       " 'label': None,\n",
       " 'seq_labels': None,\n",
       " 'text_pp': 'Suna hai  # note band i se atankiyo ki  # nasb and i karni thi Kaka Contraceptive lekar gae the par Viagra gift kar ke aa gae  # Note Bandi',\n",
       " 'langids_pp': None,\n",
       " 'meta_data': None,\n",
       " 'nertags': 'Other Other Other Other Other Other Other Other Other Other Other Other Other Other Other Other Other Other Other Other Other Other',\n",
       " 'postags': None,\n",
       " 'text_msftlid': 'Suna hai #Notebandi se atankiyo ki #Nasbandi karni thi Kaka Contraceptive lekar gae the par Viagra gift kar ke aa gae #NoteBandi',\n",
       " 'langids_msftlid': 'HI HI OTHER HI HI HI OTHER HI HI HI EN HI HI EN HI EN EN HI HI HI HI OTHER',\n",
       " 'text_msftlid_trt': 'सुना हैं #Notebandi से अटन्कियो की #Nasbandi करनी थी काका Contraceptive लेकर गाए the पर Viagra gift कर के आ गाए #NoteBandi',\n",
       " 'langids_msftlid_trt': 'HI HI OTHER HI HI HI OTHER HI HI HI EN HI HI EN HI EN EN HI HI HI HI OTHER',\n",
       " 'output': 'Other Other Other Other Other Other Other Other Other Other Other Other Other Other Other Other Other Other Other Other Other Other'}"
      ]
     },
     "execution_count": 141,
     "metadata": {},
     "output_type": "execute_result"
    }
   ],
   "source": [
    "ner_hi_bert_base_dev[0]"
   ]
  },
  {
   "cell_type": "code",
   "execution_count": 170,
   "id": "e6deee3b-4eb4-4724-a86e-a4ff91bf8358",
   "metadata": {},
   "outputs": [],
   "source": [
    "def get_sp_seq_acc_ner(data, lab = \"nertags\"):\n",
    "    cs_correct = 0\n",
    "    cs_incorrect = 0\n",
    "    eh_correct = 0\n",
    "    eh_incorrect = 0\n",
    "    he_correct = 0\n",
    "    he_incorrect = 0\n",
    "    cs = 0\n",
    "    eh = 0\n",
    "    he = 0\n",
    "    for d in data:\n",
    "        pr = \"\"\n",
    "        label = d[lab].split(\" \")\n",
    "        output = d[\"output\"].strip().split(\" \")\n",
    "        lids = d[\"langids_msftlid\"].lower().strip().split(\" \")\n",
    "        if len(output) != len(lids):\n",
    "            continue\n",
    "        for i, l in enumerate(lids):\n",
    "            if l not in [\"en\", \"hi\"]:\n",
    "                pr = \"\"\n",
    "                continue\n",
    "            if pr == \"en\" and l == \"hi\" :\n",
    "                if output[i] == label[i]:\n",
    "                    eh_correct += 1\n",
    "                    cs_correct += 1\n",
    "                else:\n",
    "                    eh_incorrect += 1\n",
    "                    cs_incorrect += 1\n",
    "                eh += 1\n",
    "                cs += 1\n",
    "            if pr == \"hi\" and l == \"en\" :\n",
    "                if output[i] == label[i]:\n",
    "                    he_correct += 1\n",
    "                    cs_correct += 1\n",
    "                else:\n",
    "                    he_incorrect += 1\n",
    "                    cs_incorrect += 1\n",
    "                he += 1\n",
    "                cs += 1\n",
    "            pr = l\n",
    "    return cs_correct/cs, cs_incorrect/cs, eh_correct/eh, eh_incorrect/eh,  he_correct/he, he_incorrect/he"
   ]
  },
  {
   "cell_type": "code",
   "execution_count": 171,
   "id": "fd6552f5-9b62-4721-94ee-c9eab7c4e731",
   "metadata": {},
   "outputs": [
    {
     "data": {
      "text/plain": [
       "(0.9746932515337423,\n",
       " 0.02530674846625767,\n",
       " 0.9799691833590138,\n",
       " 0.020030816640986132,\n",
       " 0.9694656488549618,\n",
       " 0.030534351145038167)"
      ]
     },
     "execution_count": 171,
     "metadata": {},
     "output_type": "execute_result"
    }
   ],
   "source": [
    "get_sp_seq_acc_ner(ner_hi_bert_base_dev, \"nertags\")"
   ]
  },
  {
   "cell_type": "code",
   "execution_count": null,
   "id": "61559b7f-8c96-4cb0-88a3-1a2622a4f479",
   "metadata": {},
   "outputs": [],
   "source": []
  }
 ],
 "metadata": {
  "kernelspec": {
   "display_name": "Python 3",
   "language": "python",
   "name": "python3"
  },
  "language_info": {
   "codemirror_mode": {
    "name": "ipython",
    "version": 3
   },
   "file_extension": ".py",
   "mimetype": "text/x-python",
   "name": "python",
   "nbconvert_exporter": "python",
   "pygments_lexer": "ipython3",
   "version": "3.7.11"
  }
 },
 "nbformat": 4,
 "nbformat_minor": 5
}
