{
 "cells": [
  {
   "cell_type": "code",
   "execution_count": 1,
   "id": "4dfa9ccf-c71a-48c9-a60a-4c95ac6b8628",
   "metadata": {},
   "outputs": [],
   "source": [
    "from transformers import GPT2LMHeadModel, GPT2TokenizerFast"
   ]
  },
  {
   "cell_type": "code",
   "execution_count": 2,
   "id": "70c1f05a-77ba-4078-b99c-f973f3109842",
   "metadata": {},
   "outputs": [],
   "source": [
    "import torch\n",
    "import torch.nn as nn"
   ]
  },
  {
   "cell_type": "code",
   "execution_count": 3,
   "id": "a2aed14d-1e1a-473f-bda6-ebc592011fcc",
   "metadata": {},
   "outputs": [],
   "source": [
    "from soft_embedding import SoftEmbedding\n",
    "\n",
    "n_tokens = 20\n",
    "initialize_from_vocab = True"
   ]
  },
  {
   "cell_type": "code",
   "execution_count": 4,
   "id": "ea3c1d39-e086-4c2c-b8d6-343eb0ba4c6b",
   "metadata": {},
   "outputs": [],
   "source": [
    "tokenizer = GPT2TokenizerFast.from_pretrained(\"gpt2\")\n",
    "model = GPT2LMHeadModel.from_pretrained('gpt2')"
   ]
  },
  {
   "cell_type": "code",
   "execution_count": 5,
   "id": "a4558534-dc96-43fd-ae01-6e1dfce658ee",
   "metadata": {},
   "outputs": [],
   "source": [
    "s_wte = SoftEmbedding(model.get_input_embeddings(), \n",
    "                      n_tokens=n_tokens, \n",
    "                      initialize_from_vocab=False)"
   ]
  },
  {
   "cell_type": "code",
   "execution_count": 6,
   "id": "65572d45-9270-42c3-abcc-cebdb4af00c0",
   "metadata": {},
   "outputs": [],
   "source": [
    "model.set_input_embeddings(s_wte)"
   ]
  },
  {
   "cell_type": "code",
   "execution_count": 7,
   "id": "03ef6536-5edf-4d19-836e-8ed79a29fa5a",
   "metadata": {},
   "outputs": [],
   "source": [
    "inputs = tokenizer(\"May the force be\", return_tensors=\"pt\")\n",
    "\n",
    "# need to pad attention_mask and input_ids to be full seq_len + n_learned_tokens\n",
    "# even though it does not matter what you pad input_ids with, it's just to make HF happy\n",
    "inputs['input_ids'] = torch.cat([torch.full((1,n_tokens), 50256), inputs['input_ids']], 1)\n",
    "inputs['attention_mask'] = torch.cat([torch.full((1,n_tokens), 1), inputs['attention_mask']], 1)\n",
    "\n",
    "outputs = model(**inputs)"
   ]
  }
 ],
 "metadata": {
  "kernelspec": {
   "display_name": "Python 3",
   "language": "python",
   "name": "python3"
  },
  "language_info": {
   "codemirror_mode": {
    "name": "ipython",
    "version": 3
   },
   "file_extension": ".py",
   "mimetype": "text/x-python",
   "name": "python",
   "nbconvert_exporter": "python",
   "pygments_lexer": "ipython3",
   "version": "3.7.11"
  }
 },
 "nbformat": 4,
 "nbformat_minor": 5
}
